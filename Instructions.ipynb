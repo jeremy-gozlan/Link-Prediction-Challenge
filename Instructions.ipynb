{
 "cells": [
  {
   "cell_type": "markdown",
   "metadata": {},
   "source": [
    "In order to fully replicate the results described in the report and shown in Kaggle, a few steps must be done:\n",
    "\n",
    "1. Add the node information folder to the Challenge file. <br><br>\n",
    "\n",
    "1. Graph topology : Run the Graph.ipynb in order for the Word2Vec model to be saved.(2 hours). <br>\n",
    "   This step can be avoided by using the model already saved in the Files folder<br><br>\n",
    "   \n",
    "2. Textual information: Run the Texts.ipynb in order for the nlpTrain and nlpTest to be saved (if fully run might  take up to 10 hours)<br>\n",
    "   This step can be avoided by using the two dataframes already saved in the Files folder.<br><br>\n",
    "   \n",
    "3. Graph modelling: Run the ModelNode.ipynb to create models with the graph topological information only. <br><br>\n",
    "\n",
    "4. Text modelling: Run the ModelText.ipynb to create models with the textual information only. <br><br>\n",
    "\n",
    "5. Graph+Textual mixed: After the three files saved/or step 1/2 avoided, run the ModelMix.ipynb to have result<br><br>\n",
    "\n",
    "Doing these steps you should have replicate fully our results but might take several hours. We recommend you to only check at the step 2,3 ipynb without running them to save time as results are already provided. \n",
    "\n"
   ]
  },
  {
   "cell_type": "code",
   "execution_count": null,
   "metadata": {},
   "outputs": [],
   "source": []
  }
 ],
 "metadata": {
  "kernelspec": {
   "display_name": "Python 3",
   "language": "python",
   "name": "python3"
  },
  "language_info": {
   "codemirror_mode": {
    "name": "ipython",
    "version": 3
   },
   "file_extension": ".py",
   "mimetype": "text/x-python",
   "name": "python",
   "nbconvert_exporter": "python",
   "pygments_lexer": "ipython3",
   "version": "3.7.3"
  }
 },
 "nbformat": 4,
 "nbformat_minor": 2
}
